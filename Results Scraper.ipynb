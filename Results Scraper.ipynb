{
 "cells": [
  {
   "cell_type": "code",
   "execution_count": 62,
   "metadata": {},
   "outputs": [],
   "source": [
    "# Library for opening url and creating \n",
    "# requests\n",
    "import urllib.request\n",
    "\n",
    "# pretty-print python data structures\n",
    "from pprint import pprint\n",
    "\n",
    "# for parsing all the tables present \n",
    "# on the website\n",
    "from html_table_parser import HTMLTableParser\n",
    "\n",
    "# for converting the parsed data in a\n",
    "# pandas dataframe\n",
    "import pandas as pd\n",
    "\n",
    "from datetime import datetime"
   ]
  },
  {
   "cell_type": "code",
   "execution_count": 57,
   "metadata": {},
   "outputs": [],
   "source": [
    "# Opens a website and read its\n",
    "# binary contents (HTTP Response Body)\n",
    "def url_get_contents(url):\n",
    "\n",
    "    # Opens a website and read its\n",
    "    # binary contents (HTTP Response Body)\n",
    "\n",
    "    #making request to the website\n",
    "    req = urllib.request.Request(url=url)\n",
    "    f = urllib.request.urlopen(req)\n",
    "\n",
    "    #reading contents of the website\n",
    "    return f.read()"
   ]
  },
  {
   "cell_type": "code",
   "execution_count": 106,
   "metadata": {},
   "outputs": [],
   "source": [
    " today = datetime.date(datetime.now()).strftime('%Y-%m-%d') "
   ]
  },
  {
   "cell_type": "code",
   "execution_count": 107,
   "metadata": {},
   "outputs": [
    {
     "data": {
      "text/plain": [
       "'2021-01-14'"
      ]
     },
     "execution_count": 107,
     "metadata": {},
     "output_type": "execute_result"
    }
   ],
   "source": [
    "today"
   ]
  },
  {
   "cell_type": "code",
   "execution_count": 122,
   "metadata": {},
   "outputs": [],
   "source": [
    "def get_bbref_results(year, month_list):\n",
    "    urls = []\n",
    "    return_df = pd.DataFrame()\n",
    "    for month in month_list:\n",
    "        new_url = f'https://www.basketball-reference.com/leagues/NBA_{year}_games-{month}.html'\n",
    "        urls.append(new_url)\n",
    "    \n",
    "    for url in urls:\n",
    "        \n",
    "        # defining the html contents of a URL.\n",
    "        xhtml = url_get_contents(url).decode('utf-8')\n",
    "\n",
    "        # Defining the HTMLTableParser object\n",
    "        p = HTMLTableParser()\n",
    "\n",
    "        # feeding the html contents in the\n",
    "        # HTMLTableParser object\n",
    "        p.feed(xhtml)\n",
    "        \n",
    "        df = pd.DataFrame(p.tables[0][1::], columns=p.tables[0][0])\n",
    "        \n",
    "        df['Date'] = pd.to_datetime(df['Date'])\n",
    "        \n",
    "        df.columns = ['date', 'start', 'away', 'away_pts', 'home', 'home_pts', 'box_score','ot','attend', 'notes']\n",
    "        \n",
    "        today = datetime.date(datetime.now()).strftime('%Y-%m-%d') \n",
    "        \n",
    "        df = df.loc[df['date'] < today]\n",
    "        \n",
    "        df.drop(['box_score', 'attend', 'notes'], axis=1, inplace=True)\n",
    "        \n",
    "        return_df = return_df.append(df)\n",
    "        \n",
    "    return return_df"
   ]
  },
  {
   "cell_type": "code",
   "execution_count": 123,
   "metadata": {},
   "outputs": [],
   "source": [
    "df_2021 = get_bbref_results(2021, ['december', 'january'])"
   ]
  },
  {
   "cell_type": "code",
   "execution_count": 120,
   "metadata": {},
   "outputs": [],
   "source": [
    "df_2020 = get_bbref_results(2020, ['november','december', 'january', 'july'])"
   ]
  },
  {
   "cell_type": "code",
   "execution_count": 131,
   "metadata": {},
   "outputs": [],
   "source": [
    "def get_team_ratings(years):\n",
    "    urls = []\n",
    "    return_df = pd.DataFrame()\n",
    "    for year in years:\n",
    "        new_url = f'https://www.basketball-reference.com/leagues/NBA_{year}_ratings.html'\n",
    "        urls.append(new_url)\n",
    "    \n",
    "    for url in urls:\n",
    "        \n",
    "        # defining the html contents of a URL.\n",
    "        xhtml = url_get_contents(url).decode('utf-8')\n",
    "\n",
    "        # Defining the HTMLTableParser object\n",
    "        p = HTMLTableParser()\n",
    "\n",
    "        # feeding the html contents in the\n",
    "        # HTMLTableParser object\n",
    "        p.feed(xhtml)\n",
    "        \n",
    "        df = pd.DataFrame(p.tables[0][2::], columns=p.tables[0][1])\n",
    "        \n",
    "        return_df = return_df.append(df)\n",
    "        \n",
    "    return return_df"
   ]
  },
  {
   "cell_type": "code",
   "execution_count": 136,
   "metadata": {},
   "outputs": [],
   "source": [
    "ratings_2021 = get_team_ratings([2021])"
   ]
  },
  {
   "cell_type": "code",
   "execution_count": 164,
   "metadata": {},
   "outputs": [],
   "source": [
    "def daily_team_ratings(year):\n",
    "    today = datetime.date(datetime.now()).strftime('%Y-%m-%d')\n",
    "    \n",
    "    today_df = get_team_ratings([year])\n",
    "    \n",
    "    today_df['date'] = today\n",
    "    \n",
    "    today_df.to_csv('./ratings/2021/20-21.csv', mode='a', header=False, index=False)\n",
    "    \n",
    "    "
   ]
  },
  {
   "cell_type": "code",
   "execution_count": 165,
   "metadata": {},
   "outputs": [],
   "source": [
    "daily_team_ratings(2021)"
   ]
  }
 ],
 "metadata": {
  "kernelspec": {
   "display_name": "Python 3",
   "language": "python",
   "name": "python3"
  },
  "language_info": {
   "codemirror_mode": {
    "name": "ipython",
    "version": 3
   },
   "file_extension": ".py",
   "mimetype": "text/x-python",
   "name": "python",
   "nbconvert_exporter": "python",
   "pygments_lexer": "ipython3",
   "version": "3.7.6"
  }
 },
 "nbformat": 4,
 "nbformat_minor": 4
}
